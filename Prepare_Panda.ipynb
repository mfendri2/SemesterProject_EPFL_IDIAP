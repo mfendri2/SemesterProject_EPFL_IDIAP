{
 "cells": [
  {
   "cell_type": "markdown",
   "metadata": {},
   "source": [
    "## Processing collected data from robot to matlab file \n",
    "### This notebook is used to interpolate and generate the panda robot data"
   ]
  },
  {
   "cell_type": "code",
   "execution_count": 1,
   "metadata": {},
   "outputs": [],
   "source": [
    "import numpy as np\n",
    "import scipy.interpolate as interp"
   ]
  },
  {
   "cell_type": "markdown",
   "metadata": {},
   "source": [
    "### Loading the data"
   ]
  },
  {
   "cell_type": "code",
   "execution_count": 2,
   "metadata": {},
   "outputs": [],
   "source": [
    "data=np.load(\"data/my_recording_2.npy\",allow_pickle=True,encoding='latin1')"
   ]
  },
  {
   "cell_type": "code",
   "execution_count": 3,
   "metadata": {},
   "outputs": [
    {
     "data": {
      "text/plain": [
       "(345, 7)"
      ]
     },
     "execution_count": 3,
     "metadata": {},
     "output_type": "execute_result"
    }
   ],
   "source": [
    "data[0]['q'].shape"
   ]
  },
  {
   "cell_type": "markdown",
   "metadata": {},
   "source": [
    "### Finding the max time step for all experiments"
   ]
  },
  {
   "cell_type": "code",
   "execution_count": 4,
   "metadata": {},
   "outputs": [],
   "source": [
    "shapes=[]\n",
    "for i in range(data.shape[0]):\n",
    "    h=data[i]['q']\n",
    "    if h.shape[0] >350 and h.shape[0]<500:\n",
    "        shapes.append(h.shape[0])\n",
    "max_shape=np.max(shapes)"
   ]
  },
  {
   "cell_type": "code",
   "execution_count": 5,
   "metadata": {},
   "outputs": [],
   "source": [
    "from scipy.interpolate import interp1d\n",
    "def interpolate(arr,max_shape):\n",
    "    \"\"\"\n",
    "    Implement interpolation on time step to have the same time step size for all the experiments\n",
    "    \"\"\"\n",
    "    x=np.linspace(0,arr.shape[0],arr.shape[0]+1)\n",
    "    x=x[:-1]\n",
    "    #print(x.shape,arr.shape)\n",
    "    xp = np.linspace(x[0], x[-1], max_shape)\n",
    "    f=interp1d(x,arr)\n",
    "    return (f(xp))"
   ]
  },
  {
   "cell_type": "markdown",
   "metadata": {},
   "source": [
    "### Interploation "
   ]
  },
  {
   "cell_type": "code",
   "execution_count": 171,
   "metadata": {},
   "outputs": [],
   "source": [
    "final_data=np.zeros((len(shapes)*7,max_shape))\n",
    "counter=0\n",
    "\n",
    "for i in range(data.shape[0]):\n",
    "    h=data[i]['q']\n",
    "    if h.shape[0] >350 and h.shape[0]<500:\n",
    "        for j in range(7):\n",
    "            final_data[counter,:]=interpolate(h[:,j],max_shape)\n",
    "            counter=counter+1"
   ]
  },
  {
   "cell_type": "markdown",
   "metadata": {},
   "source": [
    "### Generation to matlab file"
   ]
  },
  {
   "cell_type": "code",
   "execution_count": 172,
   "metadata": {},
   "outputs": [],
   "source": [
    "from scipy.io import savemat\n",
    "np.savetxt(\"complicated_data.txt\",final_data)"
   ]
  }
 ],
 "metadata": {
  "kernelspec": {
   "display_name": "Python 3",
   "language": "python",
   "name": "python3"
  },
  "language_info": {
   "codemirror_mode": {
    "name": "ipython",
    "version": 3
   },
   "file_extension": ".py",
   "mimetype": "text/x-python",
   "name": "python",
   "nbconvert_exporter": "python",
   "pygments_lexer": "ipython3",
   "version": "3.6.5"
  }
 },
 "nbformat": 4,
 "nbformat_minor": 2
}
