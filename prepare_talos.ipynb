{
 "cells": [
  {
   "cell_type": "markdown",
   "metadata": {},
   "source": [
    "# Preparing TALOS dataset for MATLAB "
   ]
  },
  {
   "cell_type": "code",
   "execution_count": 1,
   "metadata": {},
   "outputs": [],
   "source": [
    "import numpy as np\n",
    "import scipy.interpolate as interp"
   ]
  },
  {
   "cell_type": "markdown",
   "metadata": {},
   "source": [
    "### Loading data "
   ]
  },
  {
   "cell_type": "code",
   "execution_count": 2,
   "metadata": {},
   "outputs": [],
   "source": [
    "data=np.load(\"data/trajs_short_random.npy\",allow_pickle=True,encoding='latin1')"
   ]
  },
  {
   "cell_type": "code",
   "execution_count": 3,
   "metadata": {},
   "outputs": [],
   "source": [
    "number_of_experiements=1000"
   ]
  },
  {
   "cell_type": "markdown",
   "metadata": {},
   "source": [
    "### seperating left foot and right foot "
   ]
  },
  {
   "cell_type": "code",
   "execution_count": 4,
   "metadata": {},
   "outputs": [
    {
     "name": "stdout",
     "output_type": "stream",
     "text": [
      "Shape of the left foot is : (1000, 100, 39)\n",
      "Shape of the right foot is : (1000, 100, 39)\n",
      "Shape of the twp feet is : (2000, 100, 39)\n"
     ]
    }
   ],
   "source": [
    "left_foot_data=data[:number_of_experiements,:,:]\n",
    "right_foot_data=data[number_of_experiements:,:,:]\n",
    "print(\"Shape of the left foot is :\",left_foot_data.shape)\n",
    "print(\"Shape of the right foot is :\",right_foot_data.shape)\n",
    "print(\"Shape of the twp feet is :\",data.shape)\n"
   ]
  },
  {
   "cell_type": "markdown",
   "metadata": {},
   "source": [
    "## Considering each joint as sample"
   ]
  },
  {
   "cell_type": "code",
   "execution_count": 51,
   "metadata": {},
   "outputs": [],
   "source": [
    "left_foot_data_2d=left_foot_data.transpose(2,0,1).reshape((left_foot_data.shape[0]*left_foot_data.shape[2],left_foot_data.shape[1]))"
   ]
  },
  {
   "cell_type": "code",
   "execution_count": 52,
   "metadata": {},
   "outputs": [],
   "source": [
    "right_foot_data_2d=right_foot_data.transpose(2,0,1).reshape((right_foot_data.shape[0]*right_foot_data.shape[2],right_foot_data.shape[1]))"
   ]
  },
  {
   "cell_type": "code",
   "execution_count": 53,
   "metadata": {},
   "outputs": [],
   "source": [
    "feet_data=data.transpose(2,0,1).reshape((data.shape[0]*data.shape[2],data.shape[1]))"
   ]
  },
  {
   "cell_type": "code",
   "execution_count": 54,
   "metadata": {},
   "outputs": [
    {
     "name": "stdout",
     "output_type": "stream",
     "text": [
      "Shape of the two feet 2d is : (78000, 100)\n",
      "Shape of the left foot 2d  is : (39000, 100)\n",
      "Shape of the right foot 2d  is : (39000, 100)\n"
     ]
    }
   ],
   "source": [
    "print(\"Shape of the two feet 2d is :\",feet_data.shape)\n",
    "print(\"Shape of the left foot 2d  is :\",left_foot_data_2d.shape)\n",
    "print(\"Shape of the right foot 2d  is :\",right_foot_data_2d.shape)"
   ]
  },
  {
   "cell_type": "code",
   "execution_count": 35,
   "metadata": {},
   "outputs": [],
   "source": [
    "data_tilde=feet_data.reshape((39,int(feet_data.shape[0]/39),feet_data.shape[1])).transpose(1,2,0)"
   ]
  },
  {
   "cell_type": "code",
   "execution_count": 59,
   "metadata": {},
   "outputs": [
    {
     "data": {
      "text/plain": [
       "array([ 0.00000000e+00, -1.82695289e-04, -1.33509163e-03, -3.72984418e-03,\n",
       "       -6.97522512e-03, -1.07254943e-02, -1.47022808e-02, -1.86932700e-02,\n",
       "       -2.25777128e-02, -2.65880799e-02, -3.10240371e-02, -3.59657797e-02,\n",
       "       -4.13734867e-02, -4.71749707e-02, -5.33028111e-02, -5.97046507e-02,\n",
       "       -6.63424576e-02, -7.31885812e-02, -8.02208501e-02, -8.74193452e-02,\n",
       "       -9.47641612e-02, -1.02233879e-01, -1.09806122e-01, -1.17460676e-01,\n",
       "       -1.25175021e-01, -1.32923855e-01, -1.40683722e-01, -1.48440686e-01,\n",
       "       -1.56168723e-01, -1.63746422e-01, -1.70710549e-01, -1.76867686e-01,\n",
       "       -1.82322368e-01, -1.87163360e-01, -1.91463677e-01, -1.95288538e-01,\n",
       "       -1.98698554e-01, -2.01751020e-01, -2.04491295e-01, -2.06947773e-01,\n",
       "       -2.09154681e-01, -2.11144446e-01, -2.12947546e-01, -2.14593881e-01,\n",
       "       -2.16106488e-01, -2.17494422e-01, -2.18761233e-01, -2.19905310e-01,\n",
       "       -2.20919230e-01, -2.21790486e-01, -2.22502971e-01, -2.23038153e-01,\n",
       "       -2.23376584e-01, -2.23499620e-01, -2.23390378e-01, -2.23034622e-01,\n",
       "       -2.22421962e-01, -2.21546510e-01, -2.20407766e-01, -2.19010390e-01,\n",
       "       -2.17363047e-01, -2.15472043e-01, -2.13345019e-01, -2.10987324e-01,\n",
       "       -2.08391286e-01, -2.05524015e-01, -2.02307003e-01, -1.98661830e-01,\n",
       "       -1.94524604e-01, -1.89837313e-01, -1.84554349e-01, -1.78908774e-01,\n",
       "       -1.73134349e-01, -1.67298467e-01, -1.61466380e-01, -1.55671313e-01,\n",
       "       -1.49933870e-01, -1.44269867e-01, -1.38693215e-01, -1.33217393e-01,\n",
       "       -1.27855372e-01, -1.22619431e-01, -1.17521650e-01, -1.12574041e-01,\n",
       "       -1.07787658e-01, -1.03173182e-01, -9.87453013e-02, -9.45200887e-02,\n",
       "       -9.05140404e-02, -8.67442477e-02, -8.32276072e-02, -7.99811487e-02,\n",
       "       -7.70224712e-02, -7.43689199e-02, -7.20379086e-02, -7.00471792e-02,\n",
       "       -6.84127266e-02, -6.71486304e-02, -6.62680282e-02, -6.57853108e-02])"
      ]
     },
     "execution_count": 59,
     "metadata": {},
     "output_type": "execute_result"
    }
   ],
   "source": [
    "data[0,:,0]"
   ]
  },
  {
   "cell_type": "markdown",
   "metadata": {},
   "source": [
    "### Saving to text file "
   ]
  },
  {
   "cell_type": "code",
   "execution_count": 57,
   "metadata": {},
   "outputs": [],
   "source": [
    "from scipy.io import savemat\n",
    "np.savetxt(\"two_feet_2d.txt\",feet_data)\n",
    "np.savetxt(\"left_foot_2d.txt\",left_foot_data_2d)\n",
    "np.savetxt(\"right_foot_2d.txt\",right_foot_data_2d)"
   ]
  },
  {
   "cell_type": "markdown",
   "metadata": {},
   "source": [
    "## Considering joints as features "
   ]
  },
  {
   "cell_type": "code",
   "execution_count": 5,
   "metadata": {},
   "outputs": [
    {
     "name": "stdout",
     "output_type": "stream",
     "text": [
      "Shape of the two feet 2d joint features is : (200000, 39)\n",
      "Shape of the left foot 2d joint features is : (100000, 39)\n",
      "Shape of the right foot 2d joint features is : (100000, 39)\n"
     ]
    }
   ],
   "source": [
    "left_foot_data_joint_features= left_foot_data.reshape((left_foot_data.shape[0]*left_foot_data.shape[1],left_foot_data.shape[2]))\n",
    "right_foot_data_joint_features= right_foot_data.reshape((right_foot_data.shape[0]*right_foot_data.shape[1],right_foot_data.shape[2]))\n",
    "two_feet_data_joint_features=  data.reshape((data.shape[0]*data.shape[1],data.shape[2]))\n",
    "print(\"Shape of the two feet 2d joint features is :\",two_feet_data_joint_features.shape)\n",
    "print(\"Shape of the left foot 2d joint features is :\",left_foot_data_joint_features.shape)\n",
    "print(\"Shape of the right foot 2d joint features is :\",right_foot_data_joint_features.shape)"
   ]
  },
  {
   "cell_type": "code",
   "execution_count": 82,
   "metadata": {},
   "outputs": [
    {
     "name": "stdout",
     "output_type": "stream",
     "text": [
      "Shape of the two feet 2d joint features is : (2000, 3900)\n",
      "Shape of the left foot 2d joint features is : (1000, 3900)\n",
      "Shape of the right foot 2d joint features is : (1000, 3900)\n"
     ]
    }
   ],
   "source": [
    "left_foot_data_joint_features= left_foot_data.transpose(0,2,1).reshape((left_foot_data.shape[0],left_foot_data.shape[1]*left_foot_data.shape[2]))\n",
    "right_foot_data_joint_features= right_foot_data.transpose(0,2,1).reshape((right_foot_data.shape[0],right_foot_data.shape[1]*right_foot_data.shape[2]))\n",
    "two_feet_data_joint_features=  data.transpose(0,2,1).reshape((data.shape[0],data.shape[1]*data.shape[2]))\n",
    "print(\"Shape of the two feet 2d joint features is :\",two_feet_data_joint_features.shape)\n",
    "print(\"Shape of the left foot 2d joint features is :\",left_foot_data_joint_features.shape)\n",
    "print(\"Shape of the right foot 2d joint features is :\",right_foot_data_joint_features.shape)"
   ]
  },
  {
   "cell_type": "markdown",
   "metadata": {},
   "source": [
    "### Saving to text file "
   ]
  },
  {
   "cell_type": "code",
   "execution_count": 6,
   "metadata": {},
   "outputs": [],
   "source": [
    "np.savetxt(\"two_feet_joint_features.txt\",two_feet_data_joint_features)\n",
    "np.savetxt(\"left_foot_joint_features.txt\",left_foot_data_joint_features)\n",
    "np.savetxt(\"right_foot_joint_features.txt\",right_foot_data_joint_features)"
   ]
  },
  {
   "cell_type": "code",
   "execution_count": 94,
   "metadata": {},
   "outputs": [
    {
     "data": {
      "text/plain": [
       "array([[ 0.00000000e+00, -1.82695289e-04, -1.33509163e-03, ...,\n",
       "         8.74108463e-06,  9.92648609e-06,  1.10623151e-05],\n",
       "       [ 0.00000000e+00, -2.76054717e-05, -1.27969317e-04, ...,\n",
       "        -1.11018222e-05, -1.13071040e-05, -1.14645477e-05],\n",
       "       [ 0.00000000e+00, -3.11294194e-05, -2.81621664e-04, ...,\n",
       "         4.40854331e-06,  4.75812372e-06,  5.11438135e-06],\n",
       "       ...,\n",
       "       [ 0.00000000e+00, -1.22044557e-04, -9.07815029e-04, ...,\n",
       "         2.41987931e-06,  3.21653979e-06,  4.04952537e-06],\n",
       "       [ 0.00000000e+00, -2.75196239e-04, -1.93759469e-03, ...,\n",
       "         1.29833123e-05,  1.41639457e-05,  1.53923104e-05],\n",
       "       [ 0.00000000e+00, -1.74089214e-04, -1.32589245e-03, ...,\n",
       "         8.93763147e-06,  9.56970221e-06,  1.02354821e-05]])"
      ]
     },
     "execution_count": 94,
     "metadata": {},
     "output_type": "execute_result"
    }
   ],
   "source": [
    "left_foot_data_joint_features"
   ]
  }
 ],
 "metadata": {
  "kernelspec": {
   "display_name": "Python 3",
   "language": "python",
   "name": "python3"
  },
  "language_info": {
   "codemirror_mode": {
    "name": "ipython",
    "version": 3
   },
   "file_extension": ".py",
   "mimetype": "text/x-python",
   "name": "python",
   "nbconvert_exporter": "python",
   "pygments_lexer": "ipython3",
   "version": "3.6.5"
  }
 },
 "nbformat": 4,
 "nbformat_minor": 2
}
